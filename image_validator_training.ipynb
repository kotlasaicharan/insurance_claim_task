{
  "nbformat": 4,
  "nbformat_minor": 0,
  "metadata": {
    "colab": {
      "provenance": [],
      "gpuType": "T4"
    },
    "kernelspec": {
      "name": "python3",
      "display_name": "Python 3"
    },
    "language_info": {
      "name": "python"
    },
    "accelerator": "GPU"
  },
  "cells": [
    {
      "cell_type": "markdown",
      "source": [
        "### kaggle dataset"
      ],
      "metadata": {
        "id": "MIT24LKMVuug"
      }
    },
    {
      "cell_type": "code",
      "execution_count": null,
      "metadata": {
        "colab": {
          "base_uri": "https://localhost:8080/"
        },
        "collapsed": true,
        "id": "6q_A4NreMsAy",
        "outputId": "d3d728a4-a4b5-4589-ad4f-8e62f728db44"
      },
      "outputs": [
        {
          "output_type": "stream",
          "name": "stdout",
          "text": [
            "✅ Kaggle API configured successfully!\n"
          ]
        }
      ],
      "source": [
        "!pip -q install kaggle\n",
        "\n",
        "!mkdir -p ~/.kaggle\n",
        "!cp kaggle.json ~/.kaggle/\n",
        "!chmod 600 ~/.kaggle/kaggle.json\n",
        "\n",
        "print(\"kaggle API configured\")"
      ]
    },
    {
      "cell_type": "code",
      "source": [
        "import os\n",
        "\n",
        "if not os.path.exists('Images'):\n",
        "    os.makedirs('Images')"
      ],
      "metadata": {
        "id": "yqL-8xx4cgXp"
      },
      "execution_count": null,
      "outputs": []
    },
    {
      "cell_type": "code",
      "source": [
        "!kaggle datasets download -d mehaksingal/illegible-medical-prescription-images-dataset\n",
        "\n",
        "!unzip -q illegible-medical-prescription-images-dataset.zip -d ./Images/invalid\n"
      ],
      "metadata": {
        "colab": {
          "base_uri": "https://localhost:8080/"
        },
        "id": "p-AElQaPUwQS",
        "outputId": "35ebd04a-be72-44f7-9e22-17d651731a1b"
      },
      "execution_count": null,
      "outputs": [
        {
          "output_type": "stream",
          "name": "stdout",
          "text": [
            "Dataset URL: https://www.kaggle.com/datasets/mehaksingal/illegible-medical-prescription-images-dataset\n",
            "License(s): MIT\n",
            "illegible-medical-prescription-images-dataset.zip: Skipping, found more recently modified local copy (use --force to force download)\n",
            "📂 Dataset downloaded and unzipped into the /content/ directory.\n"
          ]
        }
      ]
    },
    {
      "cell_type": "code",
      "source": [
        "!kaggle datasets download -d dikshaasinghhh/bajaj\n",
        "\n",
        "!unzip -q bajaj.zip -d ./Images/valid\n"
      ],
      "metadata": {
        "colab": {
          "base_uri": "https://localhost:8080/"
        },
        "id": "nRRC7FcHVAyT",
        "outputId": "b73032e6-ff2b-4a9f-b58a-95c72d0dbaf9"
      },
      "execution_count": null,
      "outputs": [
        {
          "output_type": "stream",
          "name": "stdout",
          "text": [
            "Dataset URL: https://www.kaggle.com/datasets/dikshaasinghhh/bajaj\n",
            "License(s): unknown\n",
            "bajaj.zip: Skipping, found more recently modified local copy (use --force to force download)\n"
          ]
        }
      ]
    },
    {
      "cell_type": "code",
      "source": [
        "import os\n",
        "from PIL import Image\n",
        "\n",
        "DATA_DIR = './Images'\n",
        "\n",
        "for root, _, files in os.walk(DATA_DIR):\n",
        "    for file in files:\n",
        "        if file.lower().endswith('.jpg'):\n",
        "            jpg_path = os.path.join(root, file)\n",
        "            png_path = os.path.join(root, os.path.splitext(file)[0] + '.png')\n",
        "            try:\n",
        "                with Image.open(jpg_path) as img:\n",
        "                    img.save(png_path)\n",
        "                os.remove(jpg_path)\n",
        "            except Exception as e:\n",
        "                print(f\"Could not convert {jpg_path}: {e}\")\n",
        "\n",
        "print(\"Conversion complete.\")"
      ],
      "metadata": {
        "colab": {
          "base_uri": "https://localhost:8080/"
        },
        "collapsed": true,
        "id": "-I6YMFbkb7aL",
        "outputId": "50e40cf3-000e-4f56-d4d7-91cff72c2feb"
      },
      "execution_count": null,
      "outputs": [
        {
          "output_type": "stream",
          "name": "stdout",
          "text": [
            "Conversion complete.\n"
          ]
        }
      ]
    },
    {
      "cell_type": "markdown",
      "source": [
        "### data preparation"
      ],
      "metadata": {
        "id": "X5eWjheeVzEu"
      }
    },
    {
      "cell_type": "markdown",
      "source": [
        "**for creating robust invalid data gaussian blur and motion blur were added\n",
        "to valid images**"
      ],
      "metadata": {
        "id": "5L2IsDlVCZYD"
      }
    },
    {
      "cell_type": "code",
      "source": [
        "import cv2\n",
        "import numpy as np\n",
        "import os\n",
        "import random\n",
        "IMG_SIZE = 456\n",
        "\n",
        "VALID_PRESCRIPTION_DIR = '/content/Images/valid_images'\n",
        "INVALID_PRESCRIPTION_DIR = '/content/Images/invalid_images'\n",
        "\n",
        "NUM_IMAGES_TO_CREATE = 320\n",
        "\n",
        "valid_images = [f for f in os.listdir(VALID_PRESCRIPTION_DIR) if f.endswith(('.jpg', '.png', '.jpeg'))]\n",
        "\n",
        "for i in range(NUM_IMAGES_TO_CREATE):\n",
        "    image_name = random.choice(valid_images)\n",
        "    image_path = os.path.join(VALID_PRESCRIPTION_DIR, image_name)\n",
        "    img = cv2.imread(image_path)\n",
        "    if img is None: continue\n",
        "\n",
        "    augmentation_choice = random.randint(1, 2)\n",
        "    if augmentation_choice == 1:\n",
        "        blur_intensity = random.randrange(15, 45, 2)\n",
        "        augmented_img = cv2.GaussianBlur(img, (blur_intensity, blur_intensity), 0)\n",
        "        prefix = 'gauss_blur_'\n",
        "    elif augmentation_choice == 2:\n",
        "        kernel_size = random.randint(15, 40)\n",
        "        kernel = np.zeros((kernel_size, kernel_size))\n",
        "        kernel[int((kernel_size-1)/2), :] = np.ones(kernel_size)\n",
        "        kernel = kernel / kernel_size\n",
        "        augmented_img = cv2.filter2D(img, -1, kernel)\n",
        "        prefix = 'motion_blur_'\n",
        "\n",
        "\n",
        "    new_image_name = f\"{prefix}{i+1}_{image_name}\"\n",
        "    output_path = os.path.join(INVALID_PRESCRIPTION_DIR, new_image_name)\n",
        "    cv2.imwrite(output_path, augmented_img)\n",
        "\n",
        "print(f\"created and added {NUM_IMAGES_TO_CREATE} new images to the 'invalid' folder.\")"
      ],
      "metadata": {
        "colab": {
          "base_uri": "https://localhost:8080/"
        },
        "id": "QNwpKSlwVTgu",
        "outputId": "48f215ab-78b6-4652-8cb0-733afa571244"
      },
      "execution_count": null,
      "outputs": [
        {
          "output_type": "stream",
          "name": "stdout",
          "text": [
            "Successfully created and added 320 new images to the 'invalid' folder.\n"
          ]
        }
      ]
    },
    {
      "cell_type": "markdown",
      "source": [
        "### model preparation"
      ],
      "metadata": {
        "id": "CE1xvKtpC2sO"
      }
    },
    {
      "cell_type": "code",
      "source": [
        "import tensorflow as tf\n",
        "\n",
        "IMG_SIZE = 456\n",
        "BATCH_SIZE = 16\n",
        "DATA_DIR = '/content/Images'\n",
        "\n",
        "print(\"Loading and preprocessing datasets...\")\n",
        "train_ds, val_ds = tf.keras.utils.image_dataset_from_directory(\n",
        "    DATA_DIR,\n",
        "    validation_split=0.2,\n",
        "    subset=\"both\",\n",
        "    seed=123,\n",
        "    image_size=(IMG_SIZE, IMG_SIZE),\n",
        "    batch_size=BATCH_SIZE,\n",
        "    label_mode='binary'\n",
        ")\n",
        "\n",
        "AUTOTUNE = tf.data.AUTOTUNE\n",
        "train_ds = train_ds.cache().prefetch(buffer_size=AUTOTUNE)\n",
        "val_ds = val_ds.cache().prefetch(buffer_size=AUTOTUNE)\n",
        "\n",
        "print(\"Building the EfficientNet-B5 model\")\n",
        "\n",
        "inputs = tf.keras.Input(shape=(IMG_SIZE, IMG_SIZE, 3))\n",
        "\n",
        "base_model = tf.keras.applications.EfficientNetB5(\n",
        "    input_shape=(IMG_SIZE, IMG_SIZE, 3),\n",
        "    include_top=False,\n",
        "    weights='imagenet'\n",
        ")\n",
        "\n",
        "base_model.trainable = False\n",
        "\n",
        "x = base_model(inputs, training=False)\n",
        "\n",
        "\n",
        "x = tf.keras.layers.GlobalAveragePooling2D()(x)\n",
        "x = tf.keras.layers.Dropout(0.4)(x)\n",
        "outputs = tf.keras.layers.Dense(1, activation='sigmoid')(x)\n",
        "\n",
        "model = tf.keras.Model(inputs, outputs)\n",
        "\n",
        "optimizer = tf.keras.optimizers.Adam(learning_rate=1e-3)\n",
        "model.compile(\n",
        "    optimizer=optimizer,\n",
        "    loss='binary_crossentropy',\n",
        "    metrics=['accuracy']\n",
        ")\n",
        "\n",
        "model.summary()"
      ],
      "metadata": {
        "colab": {
          "base_uri": "https://localhost:8080/",
          "height": 392
        },
        "id": "7Xwz42Z7Eer5",
        "outputId": "48206455-bdae-4cfd-afcc-6deb9694e921"
      },
      "execution_count": null,
      "outputs": [
        {
          "output_type": "stream",
          "name": "stdout",
          "text": [
            "Loading and preprocessing datasets...\n",
            "Found 1195 files belonging to 2 classes.\n",
            "Using 956 files for training.\n",
            "Using 239 files for validation.\n",
            "Building the EfficientNet-B5 model\n"
          ]
        },
        {
          "output_type": "display_data",
          "data": {
            "text/plain": [
              "\u001b[1mModel: \"functional_2\"\u001b[0m\n"
            ],
            "text/html": [
              "<pre style=\"white-space:pre;overflow-x:auto;line-height:normal;font-family:Menlo,'DejaVu Sans Mono',consolas,'Courier New',monospace\"><span style=\"font-weight: bold\">Model: \"functional_2\"</span>\n",
              "</pre>\n"
            ]
          },
          "metadata": {}
        },
        {
          "output_type": "display_data",
          "data": {
            "text/plain": [
              "┏━━━━━━━━━━━━━━━━━━━━━━━━━━━━━━━━━┳━━━━━━━━━━━━━━━━━━━━━━━━┳━━━━━━━━━━━━━━━┓\n",
              "┃\u001b[1m \u001b[0m\u001b[1mLayer (type)                   \u001b[0m\u001b[1m \u001b[0m┃\u001b[1m \u001b[0m\u001b[1mOutput Shape          \u001b[0m\u001b[1m \u001b[0m┃\u001b[1m \u001b[0m\u001b[1m      Param #\u001b[0m\u001b[1m \u001b[0m┃\n",
              "┡━━━━━━━━━━━━━━━━━━━━━━━━━━━━━━━━━╇━━━━━━━━━━━━━━━━━━━━━━━━╇━━━━━━━━━━━━━━━┩\n",
              "│ input_layer_4 (\u001b[38;5;33mInputLayer\u001b[0m)      │ (\u001b[38;5;45mNone\u001b[0m, \u001b[38;5;34m456\u001b[0m, \u001b[38;5;34m456\u001b[0m, \u001b[38;5;34m3\u001b[0m)    │             \u001b[38;5;34m0\u001b[0m │\n",
              "├─────────────────────────────────┼────────────────────────┼───────────────┤\n",
              "│ efficientnetb5 (\u001b[38;5;33mFunctional\u001b[0m)     │ (\u001b[38;5;45mNone\u001b[0m, \u001b[38;5;34m15\u001b[0m, \u001b[38;5;34m15\u001b[0m, \u001b[38;5;34m2048\u001b[0m)   │    \u001b[38;5;34m28,513,527\u001b[0m │\n",
              "├─────────────────────────────────┼────────────────────────┼───────────────┤\n",
              "│ global_average_pooling2d_2      │ (\u001b[38;5;45mNone\u001b[0m, \u001b[38;5;34m2048\u001b[0m)           │             \u001b[38;5;34m0\u001b[0m │\n",
              "│ (\u001b[38;5;33mGlobalAveragePooling2D\u001b[0m)        │                        │               │\n",
              "├─────────────────────────────────┼────────────────────────┼───────────────┤\n",
              "│ dropout_2 (\u001b[38;5;33mDropout\u001b[0m)             │ (\u001b[38;5;45mNone\u001b[0m, \u001b[38;5;34m2048\u001b[0m)           │             \u001b[38;5;34m0\u001b[0m │\n",
              "├─────────────────────────────────┼────────────────────────┼───────────────┤\n",
              "│ dense_2 (\u001b[38;5;33mDense\u001b[0m)                 │ (\u001b[38;5;45mNone\u001b[0m, \u001b[38;5;34m1\u001b[0m)              │         \u001b[38;5;34m2,049\u001b[0m │\n",
              "└─────────────────────────────────┴────────────────────────┴───────────────┘\n"
            ],
            "text/html": [
              "<pre style=\"white-space:pre;overflow-x:auto;line-height:normal;font-family:Menlo,'DejaVu Sans Mono',consolas,'Courier New',monospace\">┏━━━━━━━━━━━━━━━━━━━━━━━━━━━━━━━━━┳━━━━━━━━━━━━━━━━━━━━━━━━┳━━━━━━━━━━━━━━━┓\n",
              "┃<span style=\"font-weight: bold\"> Layer (type)                    </span>┃<span style=\"font-weight: bold\"> Output Shape           </span>┃<span style=\"font-weight: bold\">       Param # </span>┃\n",
              "┡━━━━━━━━━━━━━━━━━━━━━━━━━━━━━━━━━╇━━━━━━━━━━━━━━━━━━━━━━━━╇━━━━━━━━━━━━━━━┩\n",
              "│ input_layer_4 (<span style=\"color: #0087ff; text-decoration-color: #0087ff\">InputLayer</span>)      │ (<span style=\"color: #00d7ff; text-decoration-color: #00d7ff\">None</span>, <span style=\"color: #00af00; text-decoration-color: #00af00\">456</span>, <span style=\"color: #00af00; text-decoration-color: #00af00\">456</span>, <span style=\"color: #00af00; text-decoration-color: #00af00\">3</span>)    │             <span style=\"color: #00af00; text-decoration-color: #00af00\">0</span> │\n",
              "├─────────────────────────────────┼────────────────────────┼───────────────┤\n",
              "│ efficientnetb5 (<span style=\"color: #0087ff; text-decoration-color: #0087ff\">Functional</span>)     │ (<span style=\"color: #00d7ff; text-decoration-color: #00d7ff\">None</span>, <span style=\"color: #00af00; text-decoration-color: #00af00\">15</span>, <span style=\"color: #00af00; text-decoration-color: #00af00\">15</span>, <span style=\"color: #00af00; text-decoration-color: #00af00\">2048</span>)   │    <span style=\"color: #00af00; text-decoration-color: #00af00\">28,513,527</span> │\n",
              "├─────────────────────────────────┼────────────────────────┼───────────────┤\n",
              "│ global_average_pooling2d_2      │ (<span style=\"color: #00d7ff; text-decoration-color: #00d7ff\">None</span>, <span style=\"color: #00af00; text-decoration-color: #00af00\">2048</span>)           │             <span style=\"color: #00af00; text-decoration-color: #00af00\">0</span> │\n",
              "│ (<span style=\"color: #0087ff; text-decoration-color: #0087ff\">GlobalAveragePooling2D</span>)        │                        │               │\n",
              "├─────────────────────────────────┼────────────────────────┼───────────────┤\n",
              "│ dropout_2 (<span style=\"color: #0087ff; text-decoration-color: #0087ff\">Dropout</span>)             │ (<span style=\"color: #00d7ff; text-decoration-color: #00d7ff\">None</span>, <span style=\"color: #00af00; text-decoration-color: #00af00\">2048</span>)           │             <span style=\"color: #00af00; text-decoration-color: #00af00\">0</span> │\n",
              "├─────────────────────────────────┼────────────────────────┼───────────────┤\n",
              "│ dense_2 (<span style=\"color: #0087ff; text-decoration-color: #0087ff\">Dense</span>)                 │ (<span style=\"color: #00d7ff; text-decoration-color: #00d7ff\">None</span>, <span style=\"color: #00af00; text-decoration-color: #00af00\">1</span>)              │         <span style=\"color: #00af00; text-decoration-color: #00af00\">2,049</span> │\n",
              "└─────────────────────────────────┴────────────────────────┴───────────────┘\n",
              "</pre>\n"
            ]
          },
          "metadata": {}
        },
        {
          "output_type": "display_data",
          "data": {
            "text/plain": [
              "\u001b[1m Total params: \u001b[0m\u001b[38;5;34m28,515,576\u001b[0m (108.78 MB)\n"
            ],
            "text/html": [
              "<pre style=\"white-space:pre;overflow-x:auto;line-height:normal;font-family:Menlo,'DejaVu Sans Mono',consolas,'Courier New',monospace\"><span style=\"font-weight: bold\"> Total params: </span><span style=\"color: #00af00; text-decoration-color: #00af00\">28,515,576</span> (108.78 MB)\n",
              "</pre>\n"
            ]
          },
          "metadata": {}
        },
        {
          "output_type": "display_data",
          "data": {
            "text/plain": [
              "\u001b[1m Trainable params: \u001b[0m\u001b[38;5;34m2,049\u001b[0m (8.00 KB)\n"
            ],
            "text/html": [
              "<pre style=\"white-space:pre;overflow-x:auto;line-height:normal;font-family:Menlo,'DejaVu Sans Mono',consolas,'Courier New',monospace\"><span style=\"font-weight: bold\"> Trainable params: </span><span style=\"color: #00af00; text-decoration-color: #00af00\">2,049</span> (8.00 KB)\n",
              "</pre>\n"
            ]
          },
          "metadata": {}
        },
        {
          "output_type": "display_data",
          "data": {
            "text/plain": [
              "\u001b[1m Non-trainable params: \u001b[0m\u001b[38;5;34m28,513,527\u001b[0m (108.77 MB)\n"
            ],
            "text/html": [
              "<pre style=\"white-space:pre;overflow-x:auto;line-height:normal;font-family:Menlo,'DejaVu Sans Mono',consolas,'Courier New',monospace\"><span style=\"font-weight: bold\"> Non-trainable params: </span><span style=\"color: #00af00; text-decoration-color: #00af00\">28,513,527</span> (108.77 MB)\n",
              "</pre>\n"
            ]
          },
          "metadata": {}
        }
      ]
    },
    {
      "cell_type": "code",
      "source": [
        "model.compile(\n",
        "    optimizer=tf.keras.optimizers.Adam(learning_rate=1e-5),\n",
        "    loss=tf.keras.losses.BinaryCrossentropy(),\n",
        "    metrics=['accuracy']\n",
        ")"
      ],
      "metadata": {
        "id": "wrPNYSWDik7z"
      },
      "execution_count": null,
      "outputs": []
    },
    {
      "cell_type": "code",
      "source": [
        "EPOCHS = 10\n",
        "history = model.fit(\n",
        "    train_ds,\n",
        "    validation_data=val_ds,\n",
        "    epochs=EPOCHS,\n",
        "    # initial_epoch=history.epoch[-1]\n",
        ")"
      ],
      "metadata": {
        "colab": {
          "base_uri": "https://localhost:8080/"
        },
        "id": "7NizT_QRhjte",
        "outputId": "e8e66955-5aa4-4492-8f9b-9b1f0ebf8ec0"
      },
      "execution_count": null,
      "outputs": [
        {
          "output_type": "stream",
          "name": "stdout",
          "text": [
            "Epoch 1/10\n",
            "\u001b[1m60/60\u001b[0m \u001b[32m━━━━━━━━━━━━━━━━━━━━\u001b[0m\u001b[37m\u001b[0m \u001b[1m165s\u001b[0m 2s/step - accuracy: 0.6922 - loss: 0.5502 - val_accuracy: 0.9079 - val_loss: 0.3386\n",
            "Epoch 2/10\n",
            "\u001b[1m60/60\u001b[0m \u001b[32m━━━━━━━━━━━━━━━━━━━━\u001b[0m\u001b[37m\u001b[0m \u001b[1m19s\u001b[0m 286ms/step - accuracy: 0.9005 - loss: 0.3272 - val_accuracy: 0.9331 - val_loss: 0.2582\n",
            "Epoch 3/10\n",
            "\u001b[1m60/60\u001b[0m \u001b[32m━━━━━━━━━━━━━━━━━━━━\u001b[0m\u001b[37m\u001b[0m \u001b[1m21s\u001b[0m 289ms/step - accuracy: 0.9232 - loss: 0.2623 - val_accuracy: 0.9372 - val_loss: 0.2138\n",
            "Epoch 4/10\n",
            "\u001b[1m60/60\u001b[0m \u001b[32m━━━━━━━━━━━━━━━━━━━━\u001b[0m\u001b[37m\u001b[0m \u001b[1m17s\u001b[0m 292ms/step - accuracy: 0.9545 - loss: 0.2131 - val_accuracy: 0.9456 - val_loss: 0.1871\n",
            "Epoch 5/10\n",
            "\u001b[1m60/60\u001b[0m \u001b[32m━━━━━━━━━━━━━━━━━━━━\u001b[0m\u001b[37m\u001b[0m \u001b[1m18s\u001b[0m 294ms/step - accuracy: 0.9540 - loss: 0.1806 - val_accuracy: 0.9456 - val_loss: 0.1699\n",
            "Epoch 6/10\n",
            "\u001b[1m60/60\u001b[0m \u001b[32m━━━━━━━━━━━━━━━━━━━━\u001b[0m\u001b[37m\u001b[0m \u001b[1m20s\u001b[0m 293ms/step - accuracy: 0.9511 - loss: 0.1748 - val_accuracy: 0.9456 - val_loss: 0.1541\n",
            "Epoch 7/10\n",
            "\u001b[1m60/60\u001b[0m \u001b[32m━━━━━━━━━━━━━━━━━━━━\u001b[0m\u001b[37m\u001b[0m \u001b[1m20s\u001b[0m 292ms/step - accuracy: 0.9656 - loss: 0.1536 - val_accuracy: 0.9540 - val_loss: 0.1439\n",
            "Epoch 8/10\n",
            "\u001b[1m60/60\u001b[0m \u001b[32m━━━━━━━━━━━━━━━━━━━━\u001b[0m\u001b[37m\u001b[0m \u001b[1m20s\u001b[0m 293ms/step - accuracy: 0.9617 - loss: 0.1447 - val_accuracy: 0.9540 - val_loss: 0.1367\n",
            "Epoch 9/10\n",
            "\u001b[1m60/60\u001b[0m \u001b[32m━━━━━━━━━━━━━━━━━━━━\u001b[0m\u001b[37m\u001b[0m \u001b[1m18s\u001b[0m 294ms/step - accuracy: 0.9734 - loss: 0.1255 - val_accuracy: 0.9540 - val_loss: 0.1296\n",
            "Epoch 10/10\n",
            "\u001b[1m60/60\u001b[0m \u001b[32m━━━━━━━━━━━━━━━━━━━━\u001b[0m\u001b[37m\u001b[0m \u001b[1m18s\u001b[0m 294ms/step - accuracy: 0.9670 - loss: 0.1323 - val_accuracy: 0.9582 - val_loss: 0.1226\n"
          ]
        }
      ]
    },
    {
      "cell_type": "code",
      "source": [
        "loss, accuracy = model.evaluate(val_ds)\n",
        "print(f\"Validation Accuracy: {accuracy:.2%}\")"
      ],
      "metadata": {
        "colab": {
          "base_uri": "https://localhost:8080/"
        },
        "id": "pozrRkvVltwS",
        "outputId": "3c9e234b-5b15-4db4-88d0-c544e1caa1ad"
      },
      "execution_count": null,
      "outputs": [
        {
          "output_type": "stream",
          "name": "stdout",
          "text": [
            "\u001b[1m15/15\u001b[0m \u001b[32m━━━━━━━━━━━━━━━━━━━━\u001b[0m\u001b[37m\u001b[0m \u001b[1m3s\u001b[0m 233ms/step - accuracy: 0.9658 - loss: 0.1110\n",
            "Validation Accuracy: 95.82%\n"
          ]
        }
      ]
    },
    {
      "cell_type": "code",
      "source": [
        "import numpy as np\n",
        "from sklearn.metrics import classification_report\n",
        "\n",
        "val_predictions = model.predict(val_ds)\n",
        "\n",
        "val_pred_labels = (val_predictions > 0.5).astype(int)\n",
        "\n",
        "val_true_labels = np.concatenate([y for x, y in val_ds], axis=0)\n",
        "print(classification_report(val_true_labels, val_pred_labels, target_names=['invalid', 'valid']))"
      ],
      "metadata": {
        "colab": {
          "base_uri": "https://localhost:8080/"
        },
        "id": "ByBAmR_3K8xg",
        "outputId": "f78066a0-783a-45a8-d2e0-06d788e3735a"
      },
      "execution_count": null,
      "outputs": [
        {
          "output_type": "stream",
          "name": "stdout",
          "text": [
            "\u001b[1m15/15\u001b[0m \u001b[32m━━━━━━━━━━━━━━━━━━━━\u001b[0m\u001b[37m\u001b[0m \u001b[1m30s\u001b[0m 1s/step\n",
            "              precision    recall  f1-score   support\n",
            "\n",
            "     invalid       0.99      0.95      0.97       164\n",
            "       valid       0.90      0.97      0.94        75\n",
            "\n",
            "    accuracy                           0.96       239\n",
            "   macro avg       0.94      0.96      0.95       239\n",
            "weighted avg       0.96      0.96      0.96       239\n",
            "\n"
          ]
        }
      ]
    },
    {
      "cell_type": "code",
      "source": [
        "for images, labels in val_ds.take(1):\n",
        "    print(\"Shape of a batch of images:\", images.shape)\n",
        "    print(\"Shape of a batch of labels:\", labels.shape)\n",
        "    # You can optionally display an image, for example the first one in the batch\n",
        "    import matplotlib.pyplot as plt\n",
        "    plt.imshow(images[-3].numpy().astype(\"uint8\"))\n",
        "    plt.title(f\"Label: {labels[-3].numpy()}\")\n",
        "    plt.axis(\"off\")\n",
        "    plt.show()\n",
        "\n",
        "    #label : 0 invalid\n",
        "    #label : 1 valid"
      ],
      "metadata": {
        "colab": {
          "base_uri": "https://localhost:8080/",
          "height": 463
        },
        "id": "fAbHYGYvl_O2",
        "outputId": "aec2178e-cd2a-48e5-f0fd-931cbe868e4d"
      },
      "execution_count": null,
      "outputs": [
        {
          "output_type": "stream",
          "name": "stdout",
          "text": [
            "Shape of a batch of images: (16, 456, 456, 3)\n",
            "Shape of a batch of labels: (16, 1)\n"
          ]
        },
        {
          "output_type": "display_data",
          "data": {
            "text/plain": [
              "<Figure size 640x480 with 1 Axes>"
            ],
            "image/png": "[encoded data removed]"
          },
          "metadata": {}
        }
      ]
    },
    {
      "cell_type": "code",
      "source": [
        "def predict_prescription_validity(image_path):\n",
        "    IMG_SIZE = 456\n",
        "    img = tf.keras.utils.load_img(image_path, target_size=(IMG_SIZE, IMG_SIZE))\n",
        "    img_array = tf.keras.utils.img_to_array(img)\n",
        "    img_array = tf.expand_dims(img_array, 0)\n",
        "\n",
        "    prediction = model.predict(img_array)\n",
        "    score = prediction[0][0]\n",
        "\n",
        "    if score < 0.5:\n",
        "        print(f\"This prescription is likely INVALID with {100 * (1 - score):.2f}% confidence.\")\n",
        "    else:\n",
        "        print(f\"This prescription is likely VALID with {100 * score:.2f}% confidence.\")\n",
        "\n",
        "predict_prescription_validity('/content/Images/invalid_images/1.png')"
      ],
      "metadata": {
        "colab": {
          "base_uri": "https://localhost:8080/"
        },
        "id": "qJBtlHgUqGZY",
        "outputId": "ac82b511-574d-4db4-9c39-9fcfc88d9d43"
      },
      "execution_count": null,
      "outputs": [
        {
          "output_type": "stream",
          "name": "stdout",
          "text": [
            "\u001b[1m1/1\u001b[0m \u001b[32m━━━━━━━━━━━━━━━━━━━━\u001b[0m\u001b[37m\u001b[0m \u001b[1m15s\u001b[0m 15s/step\n",
            "This prescription is likely INVALID with 81.58% confidence.\n"
          ]
        }
      ]
    },
    {
      "cell_type": "code",
      "source": [
        "predict_prescription_validity('/content/BLR-0425-PA-0036693_ARVIND REDDY REPALA 0036693_28-04-2025_1120-45_AM@E.pdf_page_24.png')"
      ],
      "metadata": {
        "colab": {
          "base_uri": "https://localhost:8080/"
        },
        "id": "uIsOSdt9q1b6",
        "outputId": "685842a6-a64f-4400-d30b-30db74c3e289"
      },
      "execution_count": null,
      "outputs": [
        {
          "output_type": "stream",
          "name": "stdout",
          "text": [
            "\u001b[1m1/1\u001b[0m \u001b[32m━━━━━━━━━━━━━━━━━━━━\u001b[0m\u001b[37m\u001b[0m \u001b[1m0s\u001b[0m 96ms/step\n",
            "This prescription is likely VALID with 95.25% confidence.\n"
          ]
        }
      ]
    },
    {
      "cell_type": "code",
      "source": [
        "model.save('model_EfficientNet.keras')"
      ],
      "metadata": {
        "id": "ns6z-Hl1m8Wj"
      },
      "execution_count": null,
      "outputs": []
    }
  ]
}